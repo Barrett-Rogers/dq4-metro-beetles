{
 "cells": [
  {
   "cell_type": "code",
   "execution_count": 30,
   "metadata": {},
   "outputs": [],
   "source": [
    "import pandas as pd\n",
    "import numpy as np\n",
    "import matplotlib.pyplot as plt\n",
    "import seaborn as sns\n",
    "from collections import Counter \n",
    "from scipy import stats\n",
    "import geopandas as gpd\n",
    "from shapely.geometry import Point\n",
    "import folium\n",
    "import re"
   ]
  },
  {
   "cell_type": "code",
   "execution_count": 68,
   "metadata": {},
   "outputs": [],
   "source": [
    "hub = pd.read_excel(\"data/Trash Hauler Report - Nov 2017 - Nov 2019 Final.xlsx\", skiprows=1)"
   ]
  },
  {
   "cell_type": "code",
   "execution_count": 69,
   "metadata": {},
   "outputs": [],
   "source": [
    "# #rename the columns\n",
    "hub.columns = [y.lower() for y in [x.strip(' ') if x[-1:] == \" \" else re.sub(r'\\W', '_', x) for x in hub.columns]]"
   ]
  },
  {
   "cell_type": "code",
   "execution_count": 70,
   "metadata": {},
   "outputs": [],
   "source": [
    "metro = pd.read_csv(\"data/hubNashville__311__Service_Requests.csv\", low_memory=False)"
   ]
  },
  {
   "cell_type": "code",
   "execution_count": 71,
   "metadata": {},
   "outputs": [],
   "source": [
    "metro.columns = ['request_number' if \"#\" in x else re.sub(r'\\W+', '_', x).lower() for x in metro.columns]"
   ]
  },
  {
   "cell_type": "code",
   "execution_count": 72,
   "metadata": {},
   "outputs": [],
   "source": [
    "#This fuction works but it is time consuming \n",
    "# inProj = Proj(init='epsg:3857')\n",
    "# outProj = Proj(init='epsg:4326')\n",
    "# [transform(x, y) for x in hub.state_plan_x for y in hub.state_plan_y]"
   ]
  },
  {
   "cell_type": "code",
   "execution_count": 73,
   "metadata": {},
   "outputs": [],
   "source": [
    "hub_geo = pd.merge(hub, metro[['request_number', 'latitude', 'longitude']], how='inner', on='request_number')\n",
    "hub_geo = hub_geo.drop(['state_plan_x', 'state_plan_y'], axis=1)\n",
    "hub_geo.loc[:, ('geometry')] = hub_geo.apply(lambda x: Point(x.longitude, x.latitude), axis=1)\n",
    "hub_geo = gpd.GeoDataFrame(hub_geo, crs = {'init': 'epsg:4326'}, geometry = hub_geo['geometry'])"
   ]
  },
  {
   "cell_type": "code",
   "execution_count": 67,
   "metadata": {},
   "outputs": [
    {
     "name": "stdout",
     "output_type": "stream",
     "text": [
      "<class 'geopandas.geodataframe.GeoDataFrame'>\n",
      "Int64Index: 20226 entries, 0 to 20225\n",
      "Data columns (total 12 columns):\n",
      "request_number      20226 non-null int64\n",
      "date_opened         20226 non-null datetime64[ns]\n",
      "request             20226 non-null object\n",
      "description         20197 non-null object\n",
      "incident_address    20217 non-null object\n",
      "zip_code            20151 non-null float64\n",
      "trash_hauler        19325 non-null object\n",
      "trash_route         19279 non-null object\n",
      "council_district    20177 non-null float64\n",
      "latitude            20201 non-null float64\n",
      "longitude           20201 non-null float64\n",
      "geometry            20226 non-null object\n",
      "dtypes: datetime64[ns](1), float64(4), int64(1), object(6)\n",
      "memory usage: 2.0+ MB\n"
     ]
    }
   ],
   "source": [
    "hub_geo.info()"
   ]
  }
 ],
 "metadata": {
  "kernelspec": {
   "display_name": "Python 3",
   "language": "python",
   "name": "python3"
  },
  "language_info": {
   "codemirror_mode": {
    "name": "ipython",
    "version": 3
   },
   "file_extension": ".py",
   "mimetype": "text/x-python",
   "name": "python",
   "nbconvert_exporter": "python",
   "pygments_lexer": "ipython3",
   "version": "3.6.9"
  }
 },
 "nbformat": 4,
 "nbformat_minor": 2
}
