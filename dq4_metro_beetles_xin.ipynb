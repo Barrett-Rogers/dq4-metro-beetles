{
 "cells": [
  {
   "cell_type": "code",
   "execution_count": 67,
   "metadata": {},
   "outputs": [],
   "source": [
    "import pandas as pd\n",
    "import numpy as np\n",
    "import matplotlib.pyplot as plt\n",
    "import seaborn as sns\n",
    "import math\n",
    "from scipy import stats\n",
    "import geopandas as gpd\n",
    "from shapely.geometry import Point\n",
    "import folium\n",
    "from datetime import datetime, timedelta\n",
    "import re"
   ]
  },
  {
   "cell_type": "code",
   "execution_count": 68,
   "metadata": {},
   "outputs": [],
   "source": [
    "hub = pd.read_excel(\"data/Trash Hauler Report - Nov 2017 - Nov 2019 Final.xlsx\", skiprows=1)"
   ]
  },
  {
   "cell_type": "code",
   "execution_count": 69,
   "metadata": {},
   "outputs": [],
   "source": [
    "# #rename the columns\n",
    "hub.columns = [y.lower() for y in [x.strip(' ') if x[-1:] == \" \" else re.sub(r'\\W', '_', x) for x in hub.columns]]"
   ]
  },
  {
   "cell_type": "code",
   "execution_count": 70,
   "metadata": {},
   "outputs": [],
   "source": [
    "metro = pd.read_csv(\"data/hubNashville__311__Service_Requests.csv\", low_memory=False)"
   ]
  },
  {
   "cell_type": "code",
   "execution_count": 71,
   "metadata": {},
   "outputs": [],
   "source": [
    "metro.columns = ['request_number' if \"#\" in x else re.sub(r'\\W+', '_', x).lower() for x in metro.columns]"
   ]
  },
  {
   "cell_type": "code",
   "execution_count": 72,
   "metadata": {},
   "outputs": [],
   "source": [
    "#This fuction works but it is time consuming \n",
    "# inProj = Proj(init='epsg:3857')\n",
    "# outProj = Proj(init='epsg:4326')\n",
    "# [transform(x, y) for x in hub.state_plan_x for y in hub.state_plan_y]"
   ]
  },
  {
   "cell_type": "code",
   "execution_count": 73,
   "metadata": {},
   "outputs": [],
   "source": [
    "hub_geo = pd.merge(hub, metro[['request_number', 'latitude', 'longitude']], how='inner', on='request_number')\n",
    "hub_geo = hub_geo.drop(['state_plan_x', 'state_plan_y'], axis=1)\n",
    "hub_geo.loc[:, ('geometry')] = hub_geo.apply(lambda x: Point(x.longitude, x.latitude), axis=1)\n",
    "hub_geo = gpd.GeoDataFrame(hub_geo, crs = {'init': 'epsg:4326'}, geometry = hub_geo['geometry'])"
   ]
  },
  {
   "cell_type": "markdown",
   "metadata": {},
   "source": [
    "**Filter the misses**"
   ]
  },
  {
   "cell_type": "code",
   "execution_count": 74,
   "metadata": {},
   "outputs": [],
   "source": [
    "hub_geo['description'] = hub_geo['description'].astype(str)\n",
    "hub_geo['request'] = hub_geo['request'].astype(str)"
   ]
  },
  {
   "cell_type": "code",
   "execution_count": 75,
   "metadata": {},
   "outputs": [],
   "source": [
    "hub_geo['request_description'] = (hub_geo.request + hub_geo.description).str.lower()"
   ]
  },
  {
   "cell_type": "code",
   "execution_count": 76,
   "metadata": {},
   "outputs": [],
   "source": [
    "hub_miss_geo = hub_geo[hub_geo['request_description'].str.contains(r'miss', na=False)]"
   ]
  },
  {
   "cell_type": "code",
   "execution_count": 77,
   "metadata": {},
   "outputs": [
    {
     "name": "stdout",
     "output_type": "stream",
     "text": [
      "<class 'geopandas.geodataframe.GeoDataFrame'>\n",
      "Int64Index: 20226 entries, 0 to 20225\n",
      "Data columns (total 13 columns):\n",
      "request_number         20226 non-null int64\n",
      "date_opened            20226 non-null datetime64[ns]\n",
      "request                20226 non-null object\n",
      "description            20226 non-null object\n",
      "incident_address       20217 non-null object\n",
      "zip_code               20151 non-null float64\n",
      "trash_hauler           19325 non-null object\n",
      "trash_route            19279 non-null object\n",
      "council_district       20177 non-null float64\n",
      "latitude               20201 non-null float64\n",
      "longitude              20201 non-null float64\n",
      "geometry               20226 non-null object\n",
      "request_description    20226 non-null object\n",
      "dtypes: datetime64[ns](1), float64(4), int64(1), object(7)\n",
      "memory usage: 2.2+ MB\n"
     ]
    }
   ],
   "source": [
    "hub_geo.info()"
   ]
  },
  {
   "cell_type": "markdown",
   "metadata": {},
   "source": [
    "**standardize the address column**"
   ]
  },
  {
   "cell_type": "code",
   "execution_count": 78,
   "metadata": {},
   "outputs": [
    {
     "name": "stderr",
     "output_type": "stream",
     "text": [
      "D:\\Anaconda3\\lib\\site-packages\\pandas\\core\\indexing.py:494: SettingWithCopyWarning: \n",
      "A value is trying to be set on a copy of a slice from a DataFrame.\n",
      "Try using .loc[row_indexer,col_indexer] = value instead\n",
      "\n",
      "See the caveats in the documentation: http://pandas.pydata.org/pandas-docs/stable/user_guide/indexing.html#returning-a-view-versus-a-copy\n",
      "  self.obj[item] = s\n"
     ]
    }
   ],
   "source": [
    "hub_miss_geo.loc[:, ('incident_address')] = hub_miss_geo['incident_address'].astype(str).str.lower()"
   ]
  },
  {
   "cell_type": "code",
   "execution_count": 79,
   "metadata": {},
   "outputs": [],
   "source": [
    "# # split the address into two groups by the first',', the first group is the street type and the second is the content after',' \n",
    "# matches = [re.search(r'(\\w+),\\s(.+)', x) if \",\" in x else re.search(r'(\\w+)$|\\W+$()', x) for x in hub_miss_geo.incident_address]\n",
    "\n",
    "# #assign the groups\n",
    "# for col, group in {'address_a': 1, 'address_b':2}.items():\n",
    "#     hub_miss_geo[col] = [x.group(group) if x != None else None for x in matches]"
   ]
  },
  {
   "cell_type": "code",
   "execution_count": 80,
   "metadata": {},
   "outputs": [],
   "source": [
    "# strip remove the leading and trailing characters only\n",
    "hub_miss_geo.loc[:,('incident_address')] = \\\n",
    "    hub_miss_geo['incident_address'].replace(to_replace= r\",.+\", value='', regex=True).str.strip()"
   ]
  },
  {
   "cell_type": "code",
   "execution_count": 81,
   "metadata": {},
   "outputs": [
    {
     "data": {
      "text/html": [
       "<div>\n",
       "<style scoped>\n",
       "    .dataframe tbody tr th:only-of-type {\n",
       "        vertical-align: middle;\n",
       "    }\n",
       "\n",
       "    .dataframe tbody tr th {\n",
       "        vertical-align: top;\n",
       "    }\n",
       "\n",
       "    .dataframe thead th {\n",
       "        text-align: right;\n",
       "    }\n",
       "</style>\n",
       "<table border=\"1\" class=\"dataframe\">\n",
       "  <thead>\n",
       "    <tr style=\"text-align: right;\">\n",
       "      <th></th>\n",
       "      <th>abbrv</th>\n",
       "      <th>street</th>\n",
       "    </tr>\n",
       "  </thead>\n",
       "  <tbody>\n",
       "    <tr>\n",
       "      <td>0</td>\n",
       "      <td>aly</td>\n",
       "      <td>allee alley ally aly</td>\n",
       "    </tr>\n",
       "  </tbody>\n",
       "</table>\n",
       "</div>"
      ],
      "text/plain": [
       "  abbrv                street\n",
       "0   aly  allee alley ally aly"
      ]
     },
     "execution_count": 81,
     "metadata": {},
     "output_type": "execute_result"
    }
   ],
   "source": [
    "suffix = pd.read_excel('data/street_suffix.xlsx')\n",
    "suffix = suffix[['abbrv','street']].dropna(how='any',axis=0).reset_index(drop=True)\n",
    "suffix.abbrv = suffix.abbrv.str.lower()\n",
    "suffix.street = suffix.street.str.lower()\n",
    "suffix.head(1)"
   ]
  },
  {
   "cell_type": "code",
   "execution_count": 82,
   "metadata": {},
   "outputs": [],
   "source": [
    "def address_standard():\n",
    "    \"\"\"\n",
    "    replace all street types with their abbreviations:\n",
    "    1. search the street types which are the last few letters in each cell \n",
    "       in the address column;\n",
    "    2. extract the matched groups and compare the suffix dataframe which\n",
    "       contains the street abbrevations and the related types;\n",
    "    3. replace all street types with their abbreviations.\n",
    "    \"\"\"\n",
    "# ave s and avenue s\n",
    "    address = []\n",
    "    for street in hub_miss_geo.incident_address:\n",
    "        st_suffix = re.search(r'(\\w+)$|\\W+$|nan', street).group(1)\n",
    "        for key, value in suffix.street.items():\n",
    "            value_list = value.split()\n",
    "            if st_suffix in value_list:\n",
    "                st_suffix = suffix.abbrv[key]\n",
    "            break \n",
    "        address.append(re.sub(r'\\w+$|\\W+$|nan', ' {}'.format(st_suffix), street))\n",
    "    return (address)"
   ]
  },
  {
   "cell_type": "code",
   "execution_count": 83,
   "metadata": {},
   "outputs": [],
   "source": [
    "hub_miss_geo.loc[:, ('incident_address')] = address_standard()"
   ]
  },
  {
   "cell_type": "code",
   "execution_count": 84,
   "metadata": {},
   "outputs": [
    {
     "data": {
      "text/plain": [
       "110 george l davis  blvd     28\n",
       "5135 hickory hollow  pkwy    23\n",
       "12546 old hickory  blvd      21\n",
       "6007 obrien  ave             20\n",
       "3710 n natchez  ct           20\n",
       "                             ..\n",
       "1654 pearl  st                1\n",
       "4416 bench mark  dr           1\n",
       "4125 wallace  ln              1\n",
       "3839 crouch  dr               1\n",
       "350 beech  ave                1\n",
       "Name: incident_address, Length: 11197, dtype: int64"
      ]
     },
     "execution_count": 84,
     "metadata": {},
     "output_type": "execute_result"
    }
   ],
   "source": [
    "hub_miss_geo.incident_address.value_counts()"
   ]
  },
  {
   "cell_type": "markdown",
   "metadata": {},
   "source": [
    "**dedup misses**"
   ]
  },
  {
   "cell_type": "code",
   "execution_count": 85,
   "metadata": {},
   "outputs": [
    {
     "name": "stderr",
     "output_type": "stream",
     "text": [
      "D:\\Anaconda3\\lib\\site-packages\\pandas\\core\\generic.py:5208: SettingWithCopyWarning: \n",
      "A value is trying to be set on a copy of a slice from a DataFrame.\n",
      "Try using .loc[row_indexer,col_indexer] = value instead\n",
      "\n",
      "See the caveats in the documentation: http://pandas.pydata.org/pandas-docs/stable/user_guide/indexing.html#returning-a-view-versus-a-copy\n",
      "  self[name] = value\n"
     ]
    }
   ],
   "source": [
    "hub_miss_geo.trash_route = [str(x) if type(x) != float else x for x in hub_miss_geo.trash_route]"
   ]
  },
  {
   "cell_type": "code",
   "execution_count": 86,
   "metadata": {},
   "outputs": [
    {
     "name": "stderr",
     "output_type": "stream",
     "text": [
      "D:\\Anaconda3\\lib\\site-packages\\ipykernel_launcher.py:1: SettingWithCopyWarning: \n",
      "A value is trying to be set on a copy of a slice from a DataFrame.\n",
      "Try using .loc[row_indexer,col_indexer] = value instead\n",
      "\n",
      "See the caveats in the documentation: http://pandas.pydata.org/pandas-docs/stable/user_guide/indexing.html#returning-a-view-versus-a-copy\n",
      "  \"\"\"Entry point for launching an IPython kernel.\n"
     ]
    }
   ],
   "source": [
    "hub_miss_geo['pickup_day'] = [int(x[1]) if type(x) != float else x for x in hub_miss_geo.trash_route]"
   ]
  },
  {
   "cell_type": "code",
   "execution_count": 87,
   "metadata": {},
   "outputs": [
    {
     "name": "stderr",
     "output_type": "stream",
     "text": [
      "D:\\Anaconda3\\lib\\site-packages\\ipykernel_launcher.py:1: SettingWithCopyWarning: \n",
      "A value is trying to be set on a copy of a slice from a DataFrame.\n",
      "Try using .loc[row_indexer,col_indexer] = value instead\n",
      "\n",
      "See the caveats in the documentation: http://pandas.pydata.org/pandas-docs/stable/user_guide/indexing.html#returning-a-view-versus-a-copy\n",
      "  \"\"\"Entry point for launching an IPython kernel.\n"
     ]
    }
   ],
   "source": [
    "hub_miss_geo['weekday'] = [x.weekday() for x in hub_miss_geo.date_opened]"
   ]
  },
  {
   "cell_type": "code",
   "execution_count": 88,
   "metadata": {},
   "outputs": [
    {
     "name": "stderr",
     "output_type": "stream",
     "text": [
      "D:\\Anaconda3\\lib\\site-packages\\ipykernel_launcher.py:1: SettingWithCopyWarning: \n",
      "A value is trying to be set on a copy of a slice from a DataFrame.\n",
      "Try using .loc[row_indexer,col_indexer] = value instead\n",
      "\n",
      "See the caveats in the documentation: http://pandas.pydata.org/pandas-docs/stable/user_guide/indexing.html#returning-a-view-versus-a-copy\n",
      "  \"\"\"Entry point for launching an IPython kernel.\n"
     ]
    }
   ],
   "source": [
    "hub_miss_geo[\"differ\"] = (hub_miss_geo.weekday - hub_miss_geo.pickup_day + 1) % 7"
   ]
  },
  {
   "cell_type": "code",
   "execution_count": 89,
   "metadata": {},
   "outputs": [],
   "source": [
    "def pickup_date():\n",
    "    p_date = []\n",
    "    for x in hub_miss_geo.date_opened:\n",
    "      for y in hub_miss_geo.differ:\n",
    "        if math.isnan(y):\n",
    "            a = y\n",
    "        else:\n",
    "            a = x - timedelta(days = y)\n",
    "        break\n",
    "      p_date.append(a)\n",
    "    return p_date"
   ]
  },
  {
   "cell_type": "code",
   "execution_count": 90,
   "metadata": {},
   "outputs": [
    {
     "name": "stderr",
     "output_type": "stream",
     "text": [
      "D:\\Anaconda3\\lib\\site-packages\\ipykernel_launcher.py:1: SettingWithCopyWarning: \n",
      "A value is trying to be set on a copy of a slice from a DataFrame.\n",
      "Try using .loc[row_indexer,col_indexer] = value instead\n",
      "\n",
      "See the caveats in the documentation: http://pandas.pydata.org/pandas-docs/stable/user_guide/indexing.html#returning-a-view-versus-a-copy\n",
      "  \"\"\"Entry point for launching an IPython kernel.\n"
     ]
    }
   ],
   "source": [
    "hub_miss_geo['pickup_date'] = pickup_date()"
   ]
  },
  {
   "cell_type": "code",
   "execution_count": 91,
   "metadata": {},
   "outputs": [],
   "source": [
    "dedup_miss = hub_miss_geo.groupby('pickup_date').first().reset_index()"
   ]
  },
  {
   "cell_type": "code",
   "execution_count": 94,
   "metadata": {},
   "outputs": [
    {
     "data": {
      "text/plain": [
       "(17059, 17)"
      ]
     },
     "execution_count": 94,
     "metadata": {},
     "output_type": "execute_result"
    }
   ],
   "source": [
    "dedup_miss.shape"
   ]
  },
  {
   "cell_type": "markdown",
   "metadata": {},
   "source": [
    "**count misses over a rolling 6 months period**"
   ]
  },
  {
   "cell_type": "code",
   "execution_count": 158,
   "metadata": {},
   "outputs": [
    {
     "data": {
      "text/plain": [
       "0         4028 clarksville  pike\n",
       "1           6528 thunderbird  dr\n",
       "2          2603 old matthews  rd\n",
       "3                 604 croley  dr\n",
       "4          1816 jo johnston  ave\n",
       "                  ...           \n",
       "17054    2731 murfreesboro  pike\n",
       "17055             1621 long  ave\n",
       "17056        2943 windemere  cir\n",
       "17057    3325 murfreesboro  pike\n",
       "17058           604 somerset  ct\n",
       "Name: incident_address, Length: 17059, dtype: object"
      ]
     },
     "execution_count": 158,
     "metadata": {},
     "output_type": "execute_result"
    }
   ],
   "source": [
    "dedup_miss.incident_address.dropna()"
   ]
  },
  {
   "cell_type": "code",
   "execution_count": 157,
   "metadata": {},
   "outputs": [
    {
     "data": {
      "text/plain": [
       "dtype('O')"
      ]
     },
     "execution_count": 157,
     "metadata": {},
     "output_type": "execute_result"
    }
   ],
   "source": [
    "dedup_miss.incident_address.dtype"
   ]
  },
  {
   "cell_type": "code",
   "execution_count": 159,
   "metadata": {},
   "outputs": [
    {
     "data": {
      "text/plain": [
       "incident_address  date_opened        \n",
       " 107              2018-09-10 15:57:00    1.0\n",
       " nan              2017-12-13 08:47:00    1.0\n",
       "                  2017-12-29 13:09:00    2.0\n",
       "                  2018-01-17 15:10:00    3.0\n",
       "                  2018-01-24 12:38:00    4.0\n",
       "                                        ... \n",
       "tusculum  rd      2019-07-18 19:27:00    1.0\n",
       "                  2019-08-01 21:02:00    2.0\n",
       "                  2019-08-02 13:52:00    3.0\n",
       "westboro  dr      2019-08-15 10:42:00    1.0\n",
       "xavier  dr        2017-12-30 23:43:00    1.0\n",
       "Name: request_number, Length: 17059, dtype: float64"
      ]
     },
     "execution_count": 159,
     "metadata": {},
     "output_type": "execute_result"
    }
   ],
   "source": [
    "dedup_miss.groupby('incident_address').rolling(on = 'date_opened', window = '180D').request_number.count()"
   ]
  },
  {
   "cell_type": "markdown",
   "metadata": {},
   "source": [
    "**identify instances where contractors missed an entire street or route in a month by contractor**"
   ]
  },
  {
   "cell_type": "code",
   "execution_count": 164,
   "metadata": {},
   "outputs": [],
   "source": [
    "# filter then dedup or dedup first\n",
    "hub_miss_entire = dedup_miss[dedup_miss['description'].str.contains(r'whole\\s\\w+|entire\\s\\w+|other\\s\\w+', na=False)]"
   ]
  },
  {
   "cell_type": "code",
   "execution_count": 165,
   "metadata": {},
   "outputs": [
    {
     "name": "stdout",
     "output_type": "stream",
     "text": [
      "<class 'pandas.core.frame.DataFrame'>\n",
      "Int64Index: 1772 entries, 21 to 17055\n",
      "Data columns (total 17 columns):\n",
      "pickup_date            1772 non-null datetime64[ns]\n",
      "request_number         1772 non-null int64\n",
      "date_opened            1772 non-null datetime64[ns]\n",
      "request                1772 non-null object\n",
      "description            1772 non-null object\n",
      "incident_address       1772 non-null object\n",
      "zip_code               1768 non-null float64\n",
      "trash_hauler           1697 non-null object\n",
      "trash_route            1700 non-null object\n",
      "council_district       1769 non-null float64\n",
      "latitude               1770 non-null float64\n",
      "longitude              1770 non-null float64\n",
      "geometry               1770 non-null object\n",
      "request_description    1772 non-null object\n",
      "pickup_day             1700 non-null float64\n",
      "weekday                1772 non-null int64\n",
      "differ                 1700 non-null float64\n",
      "dtypes: datetime64[ns](2), float64(6), int64(2), object(7)\n",
      "memory usage: 249.2+ KB\n"
     ]
    }
   ],
   "source": [
    "# 1968\n",
    "hub_miss_entire.info()"
   ]
  },
  {
   "cell_type": "code",
   "execution_count": 166,
   "metadata": {},
   "outputs": [
    {
     "name": "stderr",
     "output_type": "stream",
     "text": [
      "D:\\Anaconda3\\lib\\site-packages\\ipykernel_launcher.py:1: SettingWithCopyWarning: \n",
      "A value is trying to be set on a copy of a slice from a DataFrame.\n",
      "Try using .loc[row_indexer,col_indexer] = value instead\n",
      "\n",
      "See the caveats in the documentation: http://pandas.pydata.org/pandas-docs/stable/user_guide/indexing.html#returning-a-view-versus-a-copy\n",
      "  \"\"\"Entry point for launching an IPython kernel.\n"
     ]
    }
   ],
   "source": [
    "hub_miss_entire['area'] = [re.search(r'\\d*\\s?(.+)', x).group(1) for x in hub_miss_entire.incident_address]"
   ]
  },
  {
   "cell_type": "code",
   "execution_count": 167,
   "metadata": {},
   "outputs": [
    {
     "data": {
      "text/plain": [
       "old hickory  blvd    18\n",
       "wild oaks  ct        15\n",
       "heritage  dr         14\n",
       "buena vista  pike    10\n",
       "claymille  ct        10\n",
       "                     ..\n",
       "w marthona  rd        1\n",
       "dew st  a             1\n",
       "nunley  dr            1\n",
       "riverpoint  ct        1\n",
       " leatherbury          1\n",
       "Name: area, Length: 994, dtype: int64"
      ]
     },
     "execution_count": 167,
     "metadata": {},
     "output_type": "execute_result"
    }
   ],
   "source": [
    "hub_miss_entire.area.value_counts()"
   ]
  },
  {
   "cell_type": "code",
   "execution_count": 168,
   "metadata": {},
   "outputs": [
    {
     "name": "stderr",
     "output_type": "stream",
     "text": [
      "D:\\Anaconda3\\lib\\site-packages\\ipykernel_launcher.py:1: SettingWithCopyWarning: \n",
      "A value is trying to be set on a copy of a slice from a DataFrame.\n",
      "Try using .loc[row_indexer,col_indexer] = value instead\n",
      "\n",
      "See the caveats in the documentation: http://pandas.pydata.org/pandas-docs/stable/user_guide/indexing.html#returning-a-view-versus-a-copy\n",
      "  \"\"\"Entry point for launching an IPython kernel.\n"
     ]
    }
   ],
   "source": [
    "hub_miss_entire['month_year'] = hub_miss_entire.date_opened.dt.to_period('M')"
   ]
  },
  {
   "cell_type": "code",
   "execution_count": 169,
   "metadata": {},
   "outputs": [
    {
     "data": {
      "text/html": [
       "<div>\n",
       "<style scoped>\n",
       "    .dataframe tbody tr th:only-of-type {\n",
       "        vertical-align: middle;\n",
       "    }\n",
       "\n",
       "    .dataframe tbody tr th {\n",
       "        vertical-align: top;\n",
       "    }\n",
       "\n",
       "    .dataframe thead th {\n",
       "        text-align: right;\n",
       "    }\n",
       "</style>\n",
       "<table border=\"1\" class=\"dataframe\">\n",
       "  <thead>\n",
       "    <tr style=\"text-align: right;\">\n",
       "      <th></th>\n",
       "      <th></th>\n",
       "      <th></th>\n",
       "      <th>pickup_date</th>\n",
       "      <th>request_number</th>\n",
       "      <th>date_opened</th>\n",
       "      <th>request</th>\n",
       "      <th>description</th>\n",
       "      <th>incident_address</th>\n",
       "      <th>zip_code</th>\n",
       "      <th>trash_route</th>\n",
       "      <th>council_district</th>\n",
       "      <th>latitude</th>\n",
       "      <th>longitude</th>\n",
       "      <th>geometry</th>\n",
       "      <th>request_description</th>\n",
       "      <th>pickup_day</th>\n",
       "      <th>weekday</th>\n",
       "      <th>differ</th>\n",
       "    </tr>\n",
       "    <tr>\n",
       "      <th>trash_hauler</th>\n",
       "      <th>month_year</th>\n",
       "      <th>area</th>\n",
       "      <th></th>\n",
       "      <th></th>\n",
       "      <th></th>\n",
       "      <th></th>\n",
       "      <th></th>\n",
       "      <th></th>\n",
       "      <th></th>\n",
       "      <th></th>\n",
       "      <th></th>\n",
       "      <th></th>\n",
       "      <th></th>\n",
       "      <th></th>\n",
       "      <th></th>\n",
       "      <th></th>\n",
       "      <th></th>\n",
       "      <th></th>\n",
       "    </tr>\n",
       "  </thead>\n",
       "  <tbody>\n",
       "    <tr>\n",
       "      <td rowspan=\"5\" valign=\"top\">METRO</td>\n",
       "      <td rowspan=\"3\" valign=\"top\">2017-11</td>\n",
       "      <td>franklin  ave</td>\n",
       "      <td>2017-11-05 10:18:00</td>\n",
       "      <td>26233</td>\n",
       "      <td>2017-11-06 10:18:00</td>\n",
       "      <td>Trash - Curbside/Alley Missed Pickup</td>\n",
       "      <td>customer says missed trash pickup for the enti...</td>\n",
       "      <td>1910 franklin  ave</td>\n",
       "      <td>37206.0</td>\n",
       "      <td>9503</td>\n",
       "      <td>6.0</td>\n",
       "      <td>36.183980</td>\n",
       "      <td>-86.735210</td>\n",
       "      <td>POINT (-86.73521 36.18398)</td>\n",
       "      <td>trash - curbside/alley missed pickupcustomer s...</td>\n",
       "      <td>5.0</td>\n",
       "      <td>0</td>\n",
       "      <td>3.0</td>\n",
       "    </tr>\n",
       "    <tr>\n",
       "      <td>iverson  ave</td>\n",
       "      <td>2017-11-02 16:30:00</td>\n",
       "      <td>26038</td>\n",
       "      <td>2017-11-03 16:30:00</td>\n",
       "      <td>Trash - Curbside/Alley Missed Pickup</td>\n",
       "      <td>entire street was missed</td>\n",
       "      <td>1021 iverson  ave</td>\n",
       "      <td>37216.0</td>\n",
       "      <td>9505</td>\n",
       "      <td>8.0</td>\n",
       "      <td>36.208660</td>\n",
       "      <td>-86.737870</td>\n",
       "      <td>POINT (-86.73787 36.20865999999999)</td>\n",
       "      <td>trash - curbside/alley missed pickupentire str...</td>\n",
       "      <td>5.0</td>\n",
       "      <td>4</td>\n",
       "      <td>0.0</td>\n",
       "    </tr>\n",
       "    <tr>\n",
       "      <td>park  cir</td>\n",
       "      <td>2017-11-21 15:09:00</td>\n",
       "      <td>29677</td>\n",
       "      <td>2017-11-22 15:09:00</td>\n",
       "      <td>Trash - Curbside/Alley Missed Pickup</td>\n",
       "      <td>customer says the trash is usually missed ever...</td>\n",
       "      <td>733 park  cir</td>\n",
       "      <td>37205.0</td>\n",
       "      <td>9307</td>\n",
       "      <td>24.0</td>\n",
       "      <td>36.146720</td>\n",
       "      <td>-86.823150</td>\n",
       "      <td>POINT (-86.82315 36.14672)</td>\n",
       "      <td>trash - curbside/alley missed pickupcustomer s...</td>\n",
       "      <td>3.0</td>\n",
       "      <td>2</td>\n",
       "      <td>0.0</td>\n",
       "    </tr>\n",
       "    <tr>\n",
       "      <td rowspan=\"2\" valign=\"top\">2017-12</td>\n",
       "      <td>ashwood  ave</td>\n",
       "      <td>2017-12-20 10:12:00</td>\n",
       "      <td>34633</td>\n",
       "      <td>2017-12-21 10:12:00</td>\n",
       "      <td>Trash - Curbside/Alley Missed Pickup</td>\n",
       "      <td>missed trash pickup for the entire street</td>\n",
       "      <td>2000 ashwood  ave</td>\n",
       "      <td>37212.0</td>\n",
       "      <td>9308</td>\n",
       "      <td>18.0</td>\n",
       "      <td>36.129210</td>\n",
       "      <td>-86.800830</td>\n",
       "      <td>POINT (-86.80083 36.12921)</td>\n",
       "      <td>trash - curbside/alley missed pickupmissed tra...</td>\n",
       "      <td>3.0</td>\n",
       "      <td>3</td>\n",
       "      <td>1.0</td>\n",
       "    </tr>\n",
       "    <tr>\n",
       "      <td>blue ridge  dr</td>\n",
       "      <td>2017-12-28 12:17:00</td>\n",
       "      <td>35835</td>\n",
       "      <td>2017-12-29 12:17:00</td>\n",
       "      <td>Trash - Curbside/Alley Missed Pickup</td>\n",
       "      <td>missed pick up- caller states the entire stree...</td>\n",
       "      <td>905 blue ridge  dr</td>\n",
       "      <td>37207.0</td>\n",
       "      <td>9202</td>\n",
       "      <td>5.0</td>\n",
       "      <td>36.197080</td>\n",
       "      <td>-86.754030</td>\n",
       "      <td>POINT (-86.75403 36.19708)</td>\n",
       "      <td>trash - curbside/alley missed pickupmissed pic...</td>\n",
       "      <td>2.0</td>\n",
       "      <td>4</td>\n",
       "      <td>3.0</td>\n",
       "    </tr>\n",
       "    <tr>\n",
       "      <td>...</td>\n",
       "      <td>...</td>\n",
       "      <td>...</td>\n",
       "      <td>...</td>\n",
       "      <td>...</td>\n",
       "      <td>...</td>\n",
       "      <td>...</td>\n",
       "      <td>...</td>\n",
       "      <td>...</td>\n",
       "      <td>...</td>\n",
       "      <td>...</td>\n",
       "      <td>...</td>\n",
       "      <td>...</td>\n",
       "      <td>...</td>\n",
       "      <td>...</td>\n",
       "      <td>...</td>\n",
       "      <td>...</td>\n",
       "      <td>...</td>\n",
       "      <td>...</td>\n",
       "    </tr>\n",
       "    <tr>\n",
       "      <td rowspan=\"5\" valign=\"top\">WASTE IND</td>\n",
       "      <td rowspan=\"5\" valign=\"top\">2019-10</td>\n",
       "      <td>32nd ave  n</td>\n",
       "      <td>2019-10-09 10:31:00</td>\n",
       "      <td>257577</td>\n",
       "      <td>2019-10-10 10:31:00</td>\n",
       "      <td>Trash - Curbside/Alley Missed Pickup</td>\n",
       "      <td>missed entire alley, possibly due to illegal i...</td>\n",
       "      <td>916 32nd ave  n</td>\n",
       "      <td>37209.0</td>\n",
       "      <td>3307</td>\n",
       "      <td>21.0</td>\n",
       "      <td>36.161632</td>\n",
       "      <td>-86.824093</td>\n",
       "      <td>POINT (-86.82409330000002 36.16163160000001)</td>\n",
       "      <td>trash - curbside/alley missed pickupmissed ent...</td>\n",
       "      <td>3.0</td>\n",
       "      <td>3</td>\n",
       "      <td>1.0</td>\n",
       "    </tr>\n",
       "    <tr>\n",
       "      <td>3rd ave  n</td>\n",
       "      <td>2019-10-14 20:47:00</td>\n",
       "      <td>259664</td>\n",
       "      <td>2019-10-15 20:47:00</td>\n",
       "      <td>Trash - Curbside/Alley Missed Pickup</td>\n",
       "      <td>Trash not picked up, recycling misses every ot...</td>\n",
       "      <td>1717 3rd ave  n</td>\n",
       "      <td>37208.0</td>\n",
       "      <td>3207</td>\n",
       "      <td>19.0</td>\n",
       "      <td>36.184105</td>\n",
       "      <td>-86.790946</td>\n",
       "      <td>POINT (-86.79094610000004 36.1841054)</td>\n",
       "      <td>trash - curbside/alley missed pickuptrash not ...</td>\n",
       "      <td>2.0</td>\n",
       "      <td>1</td>\n",
       "      <td>0.0</td>\n",
       "    </tr>\n",
       "    <tr>\n",
       "      <td>5th ave  n</td>\n",
       "      <td>2019-10-03 16:23:00</td>\n",
       "      <td>255657</td>\n",
       "      <td>2019-10-04 16:23:00</td>\n",
       "      <td>Trash - Curbside/Alley Missed Pickup</td>\n",
       "      <td>miss entire alley</td>\n",
       "      <td>1825 5th ave  n</td>\n",
       "      <td>37208.0</td>\n",
       "      <td>3207</td>\n",
       "      <td>19.0</td>\n",
       "      <td>36.185200</td>\n",
       "      <td>-86.795490</td>\n",
       "      <td>POINT (-86.79549 36.1852)</td>\n",
       "      <td>trash - curbside/alley missed pickupmiss entir...</td>\n",
       "      <td>2.0</td>\n",
       "      <td>4</td>\n",
       "      <td>3.0</td>\n",
       "    </tr>\n",
       "    <tr>\n",
       "      <td>6th ave  n</td>\n",
       "      <td>2019-10-17 12:14:00</td>\n",
       "      <td>261348</td>\n",
       "      <td>2019-10-18 12:14:00</td>\n",
       "      <td>Trash - Curbside/Alley Missed Pickup</td>\n",
       "      <td>entire alley missed for several weeks</td>\n",
       "      <td>1718 6th ave  n</td>\n",
       "      <td>37208.0</td>\n",
       "      <td>3207</td>\n",
       "      <td>19.0</td>\n",
       "      <td>36.182617</td>\n",
       "      <td>-86.794118</td>\n",
       "      <td>POINT (-86.79411829999998 36.1826172)</td>\n",
       "      <td>trash - curbside/alley missed pickupentire all...</td>\n",
       "      <td>2.0</td>\n",
       "      <td>4</td>\n",
       "      <td>3.0</td>\n",
       "    </tr>\n",
       "    <tr>\n",
       "      <td>martin  st</td>\n",
       "      <td>2019-10-13 10:59:00</td>\n",
       "      <td>258825</td>\n",
       "      <td>2019-10-14 10:59:00</td>\n",
       "      <td>Trash Collection Complaint</td>\n",
       "      <td>Trailer park all missed trash/pickup {last Thu...</td>\n",
       "      <td>1312 martin  st</td>\n",
       "      <td>37203.0</td>\n",
       "      <td>2408</td>\n",
       "      <td>17.0</td>\n",
       "      <td>36.138920</td>\n",
       "      <td>-86.769050</td>\n",
       "      <td>POINT (-86.76904999999999 36.13892)</td>\n",
       "      <td>trash collection complainttrailer park all mis...</td>\n",
       "      <td>4.0</td>\n",
       "      <td>0</td>\n",
       "      <td>4.0</td>\n",
       "    </tr>\n",
       "  </tbody>\n",
       "</table>\n",
       "<p>1367 rows × 16 columns</p>\n",
       "</div>"
      ],
      "text/plain": [
       "                                               pickup_date  request_number  \\\n",
       "trash_hauler month_year area                                                 \n",
       "METRO        2017-11    franklin  ave  2017-11-05 10:18:00           26233   \n",
       "                        iverson  ave   2017-11-02 16:30:00           26038   \n",
       "                        park  cir      2017-11-21 15:09:00           29677   \n",
       "             2017-12    ashwood  ave   2017-12-20 10:12:00           34633   \n",
       "                        blue ridge  dr 2017-12-28 12:17:00           35835   \n",
       "...                                                    ...             ...   \n",
       "WASTE IND    2019-10    32nd ave  n    2019-10-09 10:31:00          257577   \n",
       "                        3rd ave  n     2019-10-14 20:47:00          259664   \n",
       "                        5th ave  n     2019-10-03 16:23:00          255657   \n",
       "                        6th ave  n     2019-10-17 12:14:00          261348   \n",
       "                        martin  st     2019-10-13 10:59:00          258825   \n",
       "\n",
       "                                               date_opened  \\\n",
       "trash_hauler month_year area                                 \n",
       "METRO        2017-11    franklin  ave  2017-11-06 10:18:00   \n",
       "                        iverson  ave   2017-11-03 16:30:00   \n",
       "                        park  cir      2017-11-22 15:09:00   \n",
       "             2017-12    ashwood  ave   2017-12-21 10:12:00   \n",
       "                        blue ridge  dr 2017-12-29 12:17:00   \n",
       "...                                                    ...   \n",
       "WASTE IND    2019-10    32nd ave  n    2019-10-10 10:31:00   \n",
       "                        3rd ave  n     2019-10-15 20:47:00   \n",
       "                        5th ave  n     2019-10-04 16:23:00   \n",
       "                        6th ave  n     2019-10-18 12:14:00   \n",
       "                        martin  st     2019-10-14 10:59:00   \n",
       "\n",
       "                                                                     request  \\\n",
       "trash_hauler month_year area                                                   \n",
       "METRO        2017-11    franklin  ave   Trash - Curbside/Alley Missed Pickup   \n",
       "                        iverson  ave    Trash - Curbside/Alley Missed Pickup   \n",
       "                        park  cir       Trash - Curbside/Alley Missed Pickup   \n",
       "             2017-12    ashwood  ave    Trash - Curbside/Alley Missed Pickup   \n",
       "                        blue ridge  dr  Trash - Curbside/Alley Missed Pickup   \n",
       "...                                                                      ...   \n",
       "WASTE IND    2019-10    32nd ave  n     Trash - Curbside/Alley Missed Pickup   \n",
       "                        3rd ave  n      Trash - Curbside/Alley Missed Pickup   \n",
       "                        5th ave  n      Trash - Curbside/Alley Missed Pickup   \n",
       "                        6th ave  n      Trash - Curbside/Alley Missed Pickup   \n",
       "                        martin  st                Trash Collection Complaint   \n",
       "\n",
       "                                                                              description  \\\n",
       "trash_hauler month_year area                                                                \n",
       "METRO        2017-11    franklin  ave   customer says missed trash pickup for the enti...   \n",
       "                        iverson  ave                             entire street was missed   \n",
       "                        park  cir       customer says the trash is usually missed ever...   \n",
       "             2017-12    ashwood  ave            missed trash pickup for the entire street   \n",
       "                        blue ridge  dr  missed pick up- caller states the entire stree...   \n",
       "...                                                                                   ...   \n",
       "WASTE IND    2019-10    32nd ave  n     missed entire alley, possibly due to illegal i...   \n",
       "                        3rd ave  n      Trash not picked up, recycling misses every ot...   \n",
       "                        5th ave  n                                      miss entire alley   \n",
       "                        6th ave  n                  entire alley missed for several weeks   \n",
       "                        martin  st      Trailer park all missed trash/pickup {last Thu...   \n",
       "\n",
       "                                          incident_address  zip_code  \\\n",
       "trash_hauler month_year area                                           \n",
       "METRO        2017-11    franklin  ave   1910 franklin  ave   37206.0   \n",
       "                        iverson  ave     1021 iverson  ave   37216.0   \n",
       "                        park  cir            733 park  cir   37205.0   \n",
       "             2017-12    ashwood  ave     2000 ashwood  ave   37212.0   \n",
       "                        blue ridge  dr  905 blue ridge  dr   37207.0   \n",
       "...                                                    ...       ...   \n",
       "WASTE IND    2019-10    32nd ave  n        916 32nd ave  n   37209.0   \n",
       "                        3rd ave  n         1717 3rd ave  n   37208.0   \n",
       "                        5th ave  n         1825 5th ave  n   37208.0   \n",
       "                        6th ave  n         1718 6th ave  n   37208.0   \n",
       "                        martin  st         1312 martin  st   37203.0   \n",
       "\n",
       "                                       trash_route  council_district  \\\n",
       "trash_hauler month_year area                                           \n",
       "METRO        2017-11    franklin  ave         9503               6.0   \n",
       "                        iverson  ave          9505               8.0   \n",
       "                        park  cir             9307              24.0   \n",
       "             2017-12    ashwood  ave          9308              18.0   \n",
       "                        blue ridge  dr        9202               5.0   \n",
       "...                                            ...               ...   \n",
       "WASTE IND    2019-10    32nd ave  n           3307              21.0   \n",
       "                        3rd ave  n            3207              19.0   \n",
       "                        5th ave  n            3207              19.0   \n",
       "                        6th ave  n            3207              19.0   \n",
       "                        martin  st            2408              17.0   \n",
       "\n",
       "                                         latitude  longitude  \\\n",
       "trash_hauler month_year area                                   \n",
       "METRO        2017-11    franklin  ave   36.183980 -86.735210   \n",
       "                        iverson  ave    36.208660 -86.737870   \n",
       "                        park  cir       36.146720 -86.823150   \n",
       "             2017-12    ashwood  ave    36.129210 -86.800830   \n",
       "                        blue ridge  dr  36.197080 -86.754030   \n",
       "...                                           ...        ...   \n",
       "WASTE IND    2019-10    32nd ave  n     36.161632 -86.824093   \n",
       "                        3rd ave  n      36.184105 -86.790946   \n",
       "                        5th ave  n      36.185200 -86.795490   \n",
       "                        6th ave  n      36.182617 -86.794118   \n",
       "                        martin  st      36.138920 -86.769050   \n",
       "\n",
       "                                                                            geometry  \\\n",
       "trash_hauler month_year area                                                           \n",
       "METRO        2017-11    franklin  ave                     POINT (-86.73521 36.18398)   \n",
       "                        iverson  ave             POINT (-86.73787 36.20865999999999)   \n",
       "                        park  cir                         POINT (-86.82315 36.14672)   \n",
       "             2017-12    ashwood  ave                      POINT (-86.80083 36.12921)   \n",
       "                        blue ridge  dr                    POINT (-86.75403 36.19708)   \n",
       "...                                                                              ...   \n",
       "WASTE IND    2019-10    32nd ave  n     POINT (-86.82409330000002 36.16163160000001)   \n",
       "                        3rd ave  n             POINT (-86.79094610000004 36.1841054)   \n",
       "                        5th ave  n                         POINT (-86.79549 36.1852)   \n",
       "                        6th ave  n             POINT (-86.79411829999998 36.1826172)   \n",
       "                        martin  st               POINT (-86.76904999999999 36.13892)   \n",
       "\n",
       "                                                                      request_description  \\\n",
       "trash_hauler month_year area                                                                \n",
       "METRO        2017-11    franklin  ave   trash - curbside/alley missed pickupcustomer s...   \n",
       "                        iverson  ave    trash - curbside/alley missed pickupentire str...   \n",
       "                        park  cir       trash - curbside/alley missed pickupcustomer s...   \n",
       "             2017-12    ashwood  ave    trash - curbside/alley missed pickupmissed tra...   \n",
       "                        blue ridge  dr  trash - curbside/alley missed pickupmissed pic...   \n",
       "...                                                                                   ...   \n",
       "WASTE IND    2019-10    32nd ave  n     trash - curbside/alley missed pickupmissed ent...   \n",
       "                        3rd ave  n      trash - curbside/alley missed pickuptrash not ...   \n",
       "                        5th ave  n      trash - curbside/alley missed pickupmiss entir...   \n",
       "                        6th ave  n      trash - curbside/alley missed pickupentire all...   \n",
       "                        martin  st      trash collection complainttrailer park all mis...   \n",
       "\n",
       "                                        pickup_day  weekday  differ  \n",
       "trash_hauler month_year area                                         \n",
       "METRO        2017-11    franklin  ave          5.0        0     3.0  \n",
       "                        iverson  ave           5.0        4     0.0  \n",
       "                        park  cir              3.0        2     0.0  \n",
       "             2017-12    ashwood  ave           3.0        3     1.0  \n",
       "                        blue ridge  dr         2.0        4     3.0  \n",
       "...                                            ...      ...     ...  \n",
       "WASTE IND    2019-10    32nd ave  n            3.0        3     1.0  \n",
       "                        3rd ave  n             2.0        1     0.0  \n",
       "                        5th ave  n             2.0        4     3.0  \n",
       "                        6th ave  n             2.0        4     3.0  \n",
       "                        martin  st             4.0        0     4.0  \n",
       "\n",
       "[1367 rows x 16 columns]"
      ]
     },
     "execution_count": 169,
     "metadata": {},
     "output_type": "execute_result"
    }
   ],
   "source": [
    "#26391\n",
    "hub_miss_entire.groupby(['trash_hauler', 'month_year', 'area']).first()"
   ]
  },
  {
   "cell_type": "markdown",
   "metadata": {},
   "source": [
    "**identify property damage, oil or hydraulic leaks in one month by contractor**"
   ]
  },
  {
   "cell_type": "code",
   "execution_count": 35,
   "metadata": {},
   "outputs": [],
   "source": [
    "hub_damage = hub_geo[hub_geo['request_description'].str.contains(r'damage|oil|hydraulic|leak', na=False)]"
   ]
  },
  {
   "cell_type": "code",
   "execution_count": 163,
   "metadata": {},
   "outputs": [
    {
     "data": {
      "text/html": [
       "<div>\n",
       "<style scoped>\n",
       "    .dataframe tbody tr th:only-of-type {\n",
       "        vertical-align: middle;\n",
       "    }\n",
       "\n",
       "    .dataframe tbody tr th {\n",
       "        vertical-align: top;\n",
       "    }\n",
       "\n",
       "    .dataframe thead th {\n",
       "        text-align: right;\n",
       "    }\n",
       "</style>\n",
       "<table border=\"1\" class=\"dataframe\">\n",
       "  <thead>\n",
       "    <tr style=\"text-align: right;\">\n",
       "      <th></th>\n",
       "      <th>request_number</th>\n",
       "      <th>date_opened</th>\n",
       "      <th>request</th>\n",
       "      <th>description</th>\n",
       "      <th>incident_address</th>\n",
       "      <th>zip_code</th>\n",
       "      <th>trash_hauler</th>\n",
       "      <th>trash_route</th>\n",
       "      <th>council_district</th>\n",
       "      <th>latitude</th>\n",
       "      <th>longitude</th>\n",
       "      <th>geometry</th>\n",
       "      <th>request_description</th>\n",
       "      <th>month_year</th>\n",
       "    </tr>\n",
       "  </thead>\n",
       "  <tbody>\n",
       "    <tr>\n",
       "      <td>6</td>\n",
       "      <td>25325</td>\n",
       "      <td>2017-11-01 09:29:00</td>\n",
       "      <td>Damage to Property</td>\n",
       "      <td>Trash/emptied Wednesday &amp; now metal black-mail...</td>\n",
       "      <td>4721 Chalmers Dr</td>\n",
       "      <td>37215.0</td>\n",
       "      <td>RED RIVER</td>\n",
       "      <td>3303</td>\n",
       "      <td>34.0</td>\n",
       "      <td>36.08074</td>\n",
       "      <td>-86.81965</td>\n",
       "      <td>POINT (-86.81965 36.08074000000001)</td>\n",
       "      <td>damage to propertytrash/emptied wednesday &amp; no...</td>\n",
       "      <td>2017-11</td>\n",
       "    </tr>\n",
       "    <tr>\n",
       "      <td>173</td>\n",
       "      <td>26971</td>\n",
       "      <td>2017-11-08 14:21:00</td>\n",
       "      <td>Damage to Property</td>\n",
       "      <td>truck is cutting into yard and damaging lawn</td>\n",
       "      <td>717 garrison dr</td>\n",
       "      <td>37207.0</td>\n",
       "      <td>RED RIVER</td>\n",
       "      <td>3205</td>\n",
       "      <td>2.0</td>\n",
       "      <td>36.22211</td>\n",
       "      <td>-86.81766</td>\n",
       "      <td>POINT (-86.81766 36.22211)</td>\n",
       "      <td>damage to propertytruck is cutting into yard a...</td>\n",
       "      <td>2017-11</td>\n",
       "    </tr>\n",
       "    <tr>\n",
       "      <td>218</td>\n",
       "      <td>27615</td>\n",
       "      <td>2017-11-13 10:42:00</td>\n",
       "      <td>Trash Collection Complaint</td>\n",
       "      <td>Trash/cart damage, due to trash/truck that sla...</td>\n",
       "      <td>3807 Richland Ave</td>\n",
       "      <td>37205.0</td>\n",
       "      <td>METRO</td>\n",
       "      <td>9307</td>\n",
       "      <td>24.0</td>\n",
       "      <td>36.13335</td>\n",
       "      <td>-86.83204</td>\n",
       "      <td>POINT (-86.83204000000001 36.13335)</td>\n",
       "      <td>trash collection complainttrash/cart damage, d...</td>\n",
       "      <td>2017-11</td>\n",
       "    </tr>\n",
       "    <tr>\n",
       "      <td>257</td>\n",
       "      <td>28158</td>\n",
       "      <td>2017-11-15 08:55:00</td>\n",
       "      <td>Damage to Property</td>\n",
       "      <td>cable lines pulled from house - caused damage ...</td>\n",
       "      <td>6347 alamo pl</td>\n",
       "      <td>37209.0</td>\n",
       "      <td>RED RIVER</td>\n",
       "      <td>4203</td>\n",
       "      <td>20.0</td>\n",
       "      <td>36.15274</td>\n",
       "      <td>-86.87178</td>\n",
       "      <td>POINT (-86.87178 36.15274)</td>\n",
       "      <td>damage to propertycable lines pulled from hous...</td>\n",
       "      <td>2017-11</td>\n",
       "    </tr>\n",
       "    <tr>\n",
       "      <td>268</td>\n",
       "      <td>28291</td>\n",
       "      <td>2017-11-15 15:35:00</td>\n",
       "      <td>Trash Collection Complaint</td>\n",
       "      <td>The trash trucks in their area have been leaki...</td>\n",
       "      <td>711 Starlit Rd</td>\n",
       "      <td>37205.0</td>\n",
       "      <td>RED RIVER</td>\n",
       "      <td>1305</td>\n",
       "      <td>23.0</td>\n",
       "      <td>36.12747</td>\n",
       "      <td>-86.88654</td>\n",
       "      <td>POINT (-86.88654 36.12747)</td>\n",
       "      <td>trash collection complaintthe trash trucks in ...</td>\n",
       "      <td>2017-11</td>\n",
       "    </tr>\n",
       "  </tbody>\n",
       "</table>\n",
       "</div>"
      ],
      "text/plain": [
       "     request_number         date_opened                     request  \\\n",
       "6             25325 2017-11-01 09:29:00          Damage to Property   \n",
       "173           26971 2017-11-08 14:21:00          Damage to Property   \n",
       "218           27615 2017-11-13 10:42:00  Trash Collection Complaint   \n",
       "257           28158 2017-11-15 08:55:00          Damage to Property   \n",
       "268           28291 2017-11-15 15:35:00  Trash Collection Complaint   \n",
       "\n",
       "                                           description   incident_address  \\\n",
       "6    Trash/emptied Wednesday & now metal black-mail...   4721 Chalmers Dr   \n",
       "173       truck is cutting into yard and damaging lawn    717 garrison dr   \n",
       "218  Trash/cart damage, due to trash/truck that sla...  3807 Richland Ave   \n",
       "257  cable lines pulled from house - caused damage ...      6347 alamo pl   \n",
       "268  The trash trucks in their area have been leaki...     711 Starlit Rd   \n",
       "\n",
       "     zip_code trash_hauler trash_route  council_district  latitude  longitude  \\\n",
       "6     37215.0    RED RIVER        3303              34.0  36.08074  -86.81965   \n",
       "173   37207.0    RED RIVER        3205               2.0  36.22211  -86.81766   \n",
       "218   37205.0        METRO        9307              24.0  36.13335  -86.83204   \n",
       "257   37209.0    RED RIVER        4203              20.0  36.15274  -86.87178   \n",
       "268   37205.0    RED RIVER        1305              23.0  36.12747  -86.88654   \n",
       "\n",
       "                                geometry  \\\n",
       "6    POINT (-86.81965 36.08074000000001)   \n",
       "173           POINT (-86.81766 36.22211)   \n",
       "218  POINT (-86.83204000000001 36.13335)   \n",
       "257           POINT (-86.87178 36.15274)   \n",
       "268           POINT (-86.88654 36.12747)   \n",
       "\n",
       "                                   request_description month_year  \n",
       "6    damage to propertytrash/emptied wednesday & no...    2017-11  \n",
       "173  damage to propertytruck is cutting into yard a...    2017-11  \n",
       "218  trash collection complainttrash/cart damage, d...    2017-11  \n",
       "257  damage to propertycable lines pulled from hous...    2017-11  \n",
       "268  trash collection complaintthe trash trucks in ...    2017-11  "
      ]
     },
     "execution_count": 163,
     "metadata": {},
     "output_type": "execute_result"
    }
   ],
   "source": [
    "hub_damage.head()"
   ]
  },
  {
   "cell_type": "code",
   "execution_count": 139,
   "metadata": {},
   "outputs": [],
   "source": [
    "hub_damage['month_year'] = hub_damage.date_opened.dt.to_period('M')"
   ]
  },
  {
   "cell_type": "code",
   "execution_count": null,
   "metadata": {},
   "outputs": [],
   "source": [
    "hub_damage.mon"
   ]
  },
  {
   "cell_type": "code",
   "execution_count": null,
   "metadata": {},
   "outputs": [],
   "source": []
  },
  {
   "cell_type": "code",
   "execution_count": null,
   "metadata": {},
   "outputs": [],
   "source": []
  }
 ],
 "metadata": {
  "kernelspec": {
   "display_name": "Python 3",
   "language": "python",
   "name": "python3"
  },
  "language_info": {
   "codemirror_mode": {
    "name": "ipython",
    "version": 3
   },
   "file_extension": ".py",
   "mimetype": "text/x-python",
   "name": "python",
   "nbconvert_exporter": "python",
   "pygments_lexer": "ipython3",
   "version": "3.6.9"
  }
 },
 "nbformat": 4,
 "nbformat_minor": 2
}
