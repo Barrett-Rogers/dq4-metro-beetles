{
 "cells": [
  {
   "cell_type": "code",
   "execution_count": 1,
   "metadata": {},
   "outputs": [],
   "source": [
    "import pandas as pd\n",
    "import numpy as np\n",
    "import matplotlib.pyplot as plt\n",
    "import seaborn as sns\n",
    "from collections import Counter \n",
    "from scipy import stats\n",
    "import geopandas as gpd\n",
    "from shapely.geometry import Point\n",
    "import folium\n",
    "import re"
   ]
  },
  {
   "cell_type": "code",
   "execution_count": 4,
   "metadata": {},
   "outputs": [],
   "source": [
    "hub = pd.read_csv(\"data/hubNashville__311__Service_Requests.csv\", low_memory=False)"
   ]
  },
  {
   "cell_type": "code",
   "execution_count": 71,
   "metadata": {},
   "outputs": [],
   "source": [
    "#rename the columns\n",
    "hub.columns = [y.lower() for y in [x.strip(' #') if '#' in x else re.sub(r'\\W+', '_', x) for x in hub.columns]]"
   ]
  },
  {
   "cell_type": "code",
   "execution_count": 72,
   "metadata": {},
   "outputs": [
    {
     "name": "stdout",
     "output_type": "stream",
     "text": [
      "<class 'pandas.core.frame.DataFrame'>\n",
      "RangeIndex: 250082 entries, 0 to 250081\n",
      "Data columns (total 21 columns):\n",
      "request                       250082 non-null int64\n",
      "status                        250082 non-null object\n",
      "request_type                  250015 non-null object\n",
      "subrequest_type               215771 non-null object\n",
      "additional_subrequest_type    141908 non-null object\n",
      "date_time_opened              250082 non-null object\n",
      "date_time_closed              243682 non-null object\n",
      "request_origin                250082 non-null object\n",
      "system_of_origin_id           22601 non-null object\n",
      "contact_type                  25483 non-null object\n",
      "preferred_language            0 non-null float64\n",
      "state_issue                   250082 non-null bool\n",
      "parent_request                2713 non-null float64\n",
      "closed_when_created           250082 non-null bool\n",
      "address                       218145 non-null object\n",
      "city                          216501 non-null object\n",
      "council_district              216388 non-null float64\n",
      "zip                           216383 non-null object\n",
      "latitude                      217155 non-null float64\n",
      "longitude                     217155 non-null float64\n",
      "mapped_location               217155 non-null object\n",
      "dtypes: bool(2), float64(5), int64(1), object(13)\n",
      "memory usage: 36.7+ MB\n"
     ]
    }
   ],
   "source": [
    "hub.info()"
   ]
  },
  {
   "cell_type": "code",
   "execution_count": null,
   "metadata": {},
   "outputs": [],
   "source": []
  }
 ],
 "metadata": {
  "kernelspec": {
   "display_name": "Python 3",
   "language": "python",
   "name": "python3"
  },
  "language_info": {
   "codemirror_mode": {
    "name": "ipython",
    "version": 3
   },
   "file_extension": ".py",
   "mimetype": "text/x-python",
   "name": "python",
   "nbconvert_exporter": "python",
   "pygments_lexer": "ipython3",
   "version": "3.6.9"
  }
 },
 "nbformat": 4,
 "nbformat_minor": 2
}
